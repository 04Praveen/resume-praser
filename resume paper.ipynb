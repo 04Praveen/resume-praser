{
 "cells": [
  {
   "cell_type": "code",
   "execution_count": 1,
   "id": "40990c3c-537d-4e22-aec7-1f8a11bd793b",
   "metadata": {},
   "outputs": [
    {
     "name": "stdin",
     "output_type": "stream",
     "text": [
      "No. of Candiadates 2\n",
      "Enter the name of applicant 1:  praveen\n",
      "Enter the resume text for praveen:  emploee\n",
      "Enter the name of applicant 2:  raju\n",
      "Enter the resume text for raju:  manager\n"
     ]
    },
    {
     "name": "stdout",
     "output_type": "stream",
     "text": [
      "Ranked Candidates:\n",
      "Rank 1: Applicant praveen, Similarity Score: 0.0\n",
      "Rank 2: Applicant raju, Similarity Score: 0.0\n"
     ]
    }
   ],
   "source": [
    "\n",
    "import nltk\n",
    "import string\n",
    "import numpy as np\n",
    "from sklearn.feature_extraction.text import TfidfVectorizer\n",
    "from sklearn.metrics.pairwise import cosine_similarity\n",
    "\n",
    "# Step 1: Data Collection (Sample data)\n",
    "job_description = \"\"\"\n",
    "We are looking for a software engineer with experience in Python, machine learning, and natural language processing.\n",
    "The candidate should have a strong understanding of algorithms and be able to work in a collaborative environment.\n",
    "\"\"\"\n",
    "\n",
    "num_candidates = int(input(\"No. of Candiadates\"))  # Number of candidate resumes\n",
    "\n",
    "# Prompt the user to input resume text and applicant name\n",
    "candidate_resumes = []\n",
    "for i in range(num_candidates):\n",
    "    name = input(f\"Enter the name of applicant {i+1}: \")\n",
    "    resume = input(f\"Enter the resume text for {name}: \")\n",
    "    candidate_resumes.append((name, resume))\n",
    "\n",
    "# Step 2: Preprocessing\n",
    "def preprocess_text(text):\n",
    "    text = text.lower()\n",
    "    text = text.translate(str.maketrans(\"\", \"\", string.punctuation))\n",
    "    return text\n",
    "\n",
    "job_description = preprocess_text(job_description)\n",
    "candidate_resumes = [(name, preprocess_text(resume)) for name, resume in candidate_resumes]\n",
    "\n",
    "# Step 3: Feature Extraction (TF-IDF)\n",
    "vectorizer = TfidfVectorizer()\n",
    "X = vectorizer.fit_transform([job_description] + [resume for _, resume in candidate_resumes])\n",
    "job_description_tfidf = X[0]\n",
    "candidate_resumes_tfidf = X[1:]\n",
    "# Step 4: Candidate Ranking\n",
    "print(\"Ranked Candidates:\")\n",
    "for i, (name, resume) in enumerate(candidate_resumes):\n",
    "    candidate_resumes_tfidf = vectorizer.transform([resume])\n",
    "    cosine_similarities = cosine_similarity(job_description_tfidf, candidate_resumes_tfidf).flatten()\n",
    "    ranked_candidates = np.argsort(cosine_similarities)[::-1]\n",
    "    print(f\"Rank {i+1}: Applicant {name}, Similarity Score: {cosine_similarities[ranked_candidates[0]]}\")"
   ]
  },
  {
   "cell_type": "code",
   "execution_count": null,
   "id": "24787e57-707d-4a9b-8583-72f3311d408c",
   "metadata": {},
   "outputs": [],
   "source": []
  }
 ],
 "metadata": {
  "kernelspec": {
   "display_name": "Python 3 (system-wide)",
   "language": "python",
   "name": "python3"
  },
  "language_info": {
   "codemirror_mode": {
    "name": "ipython",
    "version": 3
   },
   "file_extension": ".py",
   "mimetype": "text/x-python",
   "name": "python",
   "nbconvert_exporter": "python",
   "pygments_lexer": "ipython3",
   "version": "3.10.6"
  }
 },
 "nbformat": 4,
 "nbformat_minor": 5
}
